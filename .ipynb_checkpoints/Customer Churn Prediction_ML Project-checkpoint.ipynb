{
 "cells": [
  {
   "cell_type": "markdown",
   "id": "c34e8c13-b611-4acf-a662-c3ff010128ca",
   "metadata": {},
   "source": [
    "# **Customer Churn Prediction and Retention Strategies**"
   ]
  },
  {
   "cell_type": "markdown",
   "id": "33fbde83-310e-4ad3-a952-1373d9bd3ae5",
   "metadata": {},
   "source": [
    "## **WorkFlow of the Project**\n",
    "\n",
    "<ul>\n",
    "    <li>Data Loading</li>\n",
    "    <li>Exploratory Data Analysis (E.D.A.)</li>\n",
    "    <li>Data Preprocessing</li>\n",
    "    <li>Machine Learning Model Developments</li>\n",
    "    <li>Model Evaluation</li>\n",
    "    <li>Conclusion</li>\n",
    "</ul>"
   ]
  },
  {
   "cell_type": "markdown",
   "id": "bbc6e8f3-b74d-4844-8da5-e06a76cb0e27",
   "metadata": {},
   "source": [
    "## Importing the Libraries"
   ]
  },
  {
   "cell_type": "code",
   "execution_count": 4,
   "id": "7ed1c513-a046-4dce-b042-397096a8826f",
   "metadata": {},
   "outputs": [],
   "source": [
    "# Print all the outputs in a cell\n",
    "from IPython.core.interactiveshell import InteractiveShell\n",
    "InteractiveShell.ast_node_interactivity = \"all\"\n",
    "\n",
    "# Library for Warning Message\n",
    "import warnings\n",
    "warnings.simplefilter(\"ignore\")\n",
    "\n",
    "# Base Libraries\n",
    "import pandas as pd\n",
    "import numpy as np\n",
    "import matplotlib.pyplot as plt\n",
    "import seaborn as sns\n",
    "\n",
    "# Libraries for ML Parameters\n",
    "from sklearn.pipeline import Pipeline\n",
    "from sklearn.preprocessing import StandardScaler, OneHotEncoder\n",
    "from sklearn.compose import make_column_transformer\n",
    "from sklearn.inspection import permutation_importance\n",
    "from imblearn.over_sampling import SMOTE\n",
    "from sklearn.utils.class_weight import compute_sample_weight\n",
    "from sklearn.model_selection import GridSearchCV\n",
    "\n",
    "# Libraries for ML Models\n",
    "from sklearn.linear_model import LogisticRegression\n",
    "from sklearn.tree import DecisionTreeClassifier\n",
    "from sklearn.ensemble import GradientBoostingClassifier\n",
    "from sklearn.neural_network import MLPClassifier\n",
    "\n",
    "# Libraries for Performance Metrics\n",
    "from sklearn.metrics import accuracy_score, classification_report, confusion_matrix, roc_curve, roc_auc_score, auc, precision_recall_curve"
   ]
  },
  {
   "cell_type": "markdown",
   "id": "a0df307c-4140-46f6-9ae7-7c1abea86090",
   "metadata": {},
   "source": [
    "## Data Loading"
   ]
  },
  {
   "cell_type": "code",
   "execution_count": 6,
   "id": "10448c4e-17e7-4513-8852-0be8392ec3fd",
   "metadata": {},
   "outputs": [],
   "source": [
    "# We have 2 separate datasets for training and test set.\n",
    "df_train = pd.read_csv(\"customer_churn_dataset_training.csv\")\n",
    "df_test = pd.read_csv(\"customer_churn_dataset_testing.csv\")"
   ]
  },
  {
   "cell_type": "markdown",
   "id": "18381f9f-89b5-454d-8506-c1a662a91a73",
   "metadata": {},
   "source": [
    "## Exploratory Data Analysis (E.D.A.)"
   ]
  },
  {
   "cell_type": "markdown",
   "id": "91e889cd-1c70-48b5-ad53-2f3b5b8a8c9b",
   "metadata": {},
   "source": [
    "Since we have separate datasets for training and testing, we will conduct Exploratory Data Analysis (EDA) on the training data, while the performance of the best machine learning models will be evaluated using the test data."
   ]
  },
  {
   "cell_type": "code",
   "execution_count": 9,
   "id": "ff7fc41e-909f-40b9-86bc-9c3cedf2f5de",
   "metadata": {},
   "outputs": [
    {
     "name": "stdout",
     "output_type": "stream",
     "text": [
      "Glimpse of the first 5 rows\n",
      " \n"
     ]
    },
    {
     "data": {
      "text/html": [
       "<div>\n",
       "<style scoped>\n",
       "    .dataframe tbody tr th:only-of-type {\n",
       "        vertical-align: middle;\n",
       "    }\n",
       "\n",
       "    .dataframe tbody tr th {\n",
       "        vertical-align: top;\n",
       "    }\n",
       "\n",
       "    .dataframe thead th {\n",
       "        text-align: right;\n",
       "    }\n",
       "</style>\n",
       "<table border=\"1\" class=\"dataframe\">\n",
       "  <thead>\n",
       "    <tr style=\"text-align: right;\">\n",
       "      <th></th>\n",
       "      <th>CustomerID</th>\n",
       "      <th>Age</th>\n",
       "      <th>Gender</th>\n",
       "      <th>Tenure</th>\n",
       "      <th>Usage Frequency</th>\n",
       "      <th>Support Calls</th>\n",
       "      <th>Payment Delay</th>\n",
       "      <th>Subscription Type</th>\n",
       "      <th>Contract Length</th>\n",
       "      <th>Total Spend</th>\n",
       "      <th>Last Interaction</th>\n",
       "      <th>Churn</th>\n",
       "    </tr>\n",
       "  </thead>\n",
       "  <tbody>\n",
       "    <tr>\n",
       "      <th>0</th>\n",
       "      <td>2.0</td>\n",
       "      <td>30.0</td>\n",
       "      <td>Female</td>\n",
       "      <td>39.0</td>\n",
       "      <td>14.0</td>\n",
       "      <td>5.0</td>\n",
       "      <td>18.0</td>\n",
       "      <td>Standard</td>\n",
       "      <td>Annual</td>\n",
       "      <td>932.0</td>\n",
       "      <td>17.0</td>\n",
       "      <td>1.0</td>\n",
       "    </tr>\n",
       "    <tr>\n",
       "      <th>1</th>\n",
       "      <td>3.0</td>\n",
       "      <td>65.0</td>\n",
       "      <td>Female</td>\n",
       "      <td>49.0</td>\n",
       "      <td>1.0</td>\n",
       "      <td>10.0</td>\n",
       "      <td>8.0</td>\n",
       "      <td>Basic</td>\n",
       "      <td>Monthly</td>\n",
       "      <td>557.0</td>\n",
       "      <td>6.0</td>\n",
       "      <td>1.0</td>\n",
       "    </tr>\n",
       "    <tr>\n",
       "      <th>2</th>\n",
       "      <td>4.0</td>\n",
       "      <td>55.0</td>\n",
       "      <td>Female</td>\n",
       "      <td>14.0</td>\n",
       "      <td>4.0</td>\n",
       "      <td>6.0</td>\n",
       "      <td>18.0</td>\n",
       "      <td>Basic</td>\n",
       "      <td>Quarterly</td>\n",
       "      <td>185.0</td>\n",
       "      <td>3.0</td>\n",
       "      <td>1.0</td>\n",
       "    </tr>\n",
       "    <tr>\n",
       "      <th>3</th>\n",
       "      <td>5.0</td>\n",
       "      <td>58.0</td>\n",
       "      <td>Male</td>\n",
       "      <td>38.0</td>\n",
       "      <td>21.0</td>\n",
       "      <td>7.0</td>\n",
       "      <td>7.0</td>\n",
       "      <td>Standard</td>\n",
       "      <td>Monthly</td>\n",
       "      <td>396.0</td>\n",
       "      <td>29.0</td>\n",
       "      <td>1.0</td>\n",
       "    </tr>\n",
       "    <tr>\n",
       "      <th>4</th>\n",
       "      <td>6.0</td>\n",
       "      <td>23.0</td>\n",
       "      <td>Male</td>\n",
       "      <td>32.0</td>\n",
       "      <td>20.0</td>\n",
       "      <td>5.0</td>\n",
       "      <td>8.0</td>\n",
       "      <td>Basic</td>\n",
       "      <td>Monthly</td>\n",
       "      <td>617.0</td>\n",
       "      <td>20.0</td>\n",
       "      <td>1.0</td>\n",
       "    </tr>\n",
       "  </tbody>\n",
       "</table>\n",
       "</div>"
      ],
      "text/plain": [
       "   CustomerID   Age  Gender  Tenure  Usage Frequency  Support Calls  \\\n",
       "0         2.0  30.0  Female    39.0             14.0            5.0   \n",
       "1         3.0  65.0  Female    49.0              1.0           10.0   \n",
       "2         4.0  55.0  Female    14.0              4.0            6.0   \n",
       "3         5.0  58.0    Male    38.0             21.0            7.0   \n",
       "4         6.0  23.0    Male    32.0             20.0            5.0   \n",
       "\n",
       "   Payment Delay Subscription Type Contract Length  Total Spend  \\\n",
       "0           18.0          Standard          Annual        932.0   \n",
       "1            8.0             Basic         Monthly        557.0   \n",
       "2           18.0             Basic       Quarterly        185.0   \n",
       "3            7.0          Standard         Monthly        396.0   \n",
       "4            8.0             Basic         Monthly        617.0   \n",
       "\n",
       "   Last Interaction  Churn  \n",
       "0              17.0    1.0  \n",
       "1               6.0    1.0  \n",
       "2               3.0    1.0  \n",
       "3              29.0    1.0  \n",
       "4              20.0    1.0  "
      ]
     },
     "execution_count": 9,
     "metadata": {},
     "output_type": "execute_result"
    }
   ],
   "source": [
    "# Glimpse of the first 5 rows\n",
    "print(\"Glimpse of the first 5 rows\")\n",
    "print(\" \")\n",
    "df_train.head()"
   ]
  },
  {
   "cell_type": "code",
   "execution_count": 10,
   "id": "e96fc50b-42d2-4dda-9bd5-b1a58eeab3d6",
   "metadata": {},
   "outputs": [
    {
     "data": {
      "text/html": [
       "<div>\n",
       "<style scoped>\n",
       "    .dataframe tbody tr th:only-of-type {\n",
       "        vertical-align: middle;\n",
       "    }\n",
       "\n",
       "    .dataframe tbody tr th {\n",
       "        vertical-align: top;\n",
       "    }\n",
       "\n",
       "    .dataframe thead th {\n",
       "        text-align: right;\n",
       "    }\n",
       "</style>\n",
       "<table border=\"1\" class=\"dataframe\">\n",
       "  <thead>\n",
       "    <tr style=\"text-align: right;\">\n",
       "      <th></th>\n",
       "      <th>customerid</th>\n",
       "      <th>age</th>\n",
       "      <th>gender</th>\n",
       "      <th>tenure</th>\n",
       "      <th>usage frequency</th>\n",
       "      <th>support calls</th>\n",
       "      <th>payment delay</th>\n",
       "      <th>subscription type</th>\n",
       "      <th>contract length</th>\n",
       "      <th>total spend</th>\n",
       "      <th>last interaction</th>\n",
       "      <th>churn</th>\n",
       "    </tr>\n",
       "  </thead>\n",
       "  <tbody>\n",
       "    <tr>\n",
       "      <th>0</th>\n",
       "      <td>2.0</td>\n",
       "      <td>30.0</td>\n",
       "      <td>Female</td>\n",
       "      <td>39.0</td>\n",
       "      <td>14.0</td>\n",
       "      <td>5.0</td>\n",
       "      <td>18.0</td>\n",
       "      <td>Standard</td>\n",
       "      <td>Annual</td>\n",
       "      <td>932.0</td>\n",
       "      <td>17.0</td>\n",
       "      <td>1.0</td>\n",
       "    </tr>\n",
       "  </tbody>\n",
       "</table>\n",
       "</div>"
      ],
      "text/plain": [
       "   customerid   age  gender  tenure  usage frequency  support calls  \\\n",
       "0         2.0  30.0  Female    39.0             14.0            5.0   \n",
       "\n",
       "   payment delay subscription type contract length  total spend  \\\n",
       "0           18.0          Standard          Annual        932.0   \n",
       "\n",
       "   last interaction  churn  \n",
       "0              17.0    1.0  "
      ]
     },
     "execution_count": 10,
     "metadata": {},
     "output_type": "execute_result"
    }
   ],
   "source": [
    "# Converting the Column Names to \"LowerCase\"\n",
    "df_train.columns = df_train.columns.str.lower()\n",
    "\n",
    "# Verify\n",
    "df_train.head(1)"
   ]
  },
  {
   "cell_type": "code",
   "execution_count": 11,
   "id": "28f56dd3-4e1c-4e89-ab83-afb1cd5719e2",
   "metadata": {},
   "outputs": [
    {
     "data": {
      "text/html": [
       "<div>\n",
       "<style scoped>\n",
       "    .dataframe tbody tr th:only-of-type {\n",
       "        vertical-align: middle;\n",
       "    }\n",
       "\n",
       "    .dataframe tbody tr th {\n",
       "        vertical-align: top;\n",
       "    }\n",
       "\n",
       "    .dataframe thead th {\n",
       "        text-align: right;\n",
       "    }\n",
       "</style>\n",
       "<table border=\"1\" class=\"dataframe\">\n",
       "  <thead>\n",
       "    <tr style=\"text-align: right;\">\n",
       "      <th></th>\n",
       "      <th>age</th>\n",
       "      <th>gender</th>\n",
       "      <th>tenure</th>\n",
       "      <th>usage frequency</th>\n",
       "      <th>support calls</th>\n",
       "      <th>payment delay</th>\n",
       "      <th>subscription type</th>\n",
       "      <th>contract length</th>\n",
       "      <th>total spend</th>\n",
       "      <th>last interaction</th>\n",
       "      <th>churn</th>\n",
       "    </tr>\n",
       "    <tr>\n",
       "      <th>customerid</th>\n",
       "      <th></th>\n",
       "      <th></th>\n",
       "      <th></th>\n",
       "      <th></th>\n",
       "      <th></th>\n",
       "      <th></th>\n",
       "      <th></th>\n",
       "      <th></th>\n",
       "      <th></th>\n",
       "      <th></th>\n",
       "      <th></th>\n",
       "    </tr>\n",
       "  </thead>\n",
       "  <tbody>\n",
       "    <tr>\n",
       "      <th>2.0</th>\n",
       "      <td>30.0</td>\n",
       "      <td>Female</td>\n",
       "      <td>39.0</td>\n",
       "      <td>14.0</td>\n",
       "      <td>5.0</td>\n",
       "      <td>18.0</td>\n",
       "      <td>Standard</td>\n",
       "      <td>Annual</td>\n",
       "      <td>932.0</td>\n",
       "      <td>17.0</td>\n",
       "      <td>1.0</td>\n",
       "    </tr>\n",
       "  </tbody>\n",
       "</table>\n",
       "</div>"
      ],
      "text/plain": [
       "             age  gender  tenure  usage frequency  support calls  \\\n",
       "customerid                                                         \n",
       "2.0         30.0  Female    39.0             14.0            5.0   \n",
       "\n",
       "            payment delay subscription type contract length  total spend  \\\n",
       "customerid                                                                 \n",
       "2.0                  18.0          Standard          Annual        932.0   \n",
       "\n",
       "            last interaction  churn  \n",
       "customerid                           \n",
       "2.0                     17.0    1.0  "
      ]
     },
     "execution_count": 11,
     "metadata": {},
     "output_type": "execute_result"
    }
   ],
   "source": [
    "# Setting the \"customerid\" column as Index\n",
    "df_train = df_train.set_index(\"customerid\")\n",
    "\n",
    "# Verify\n",
    "df_train.head(1)"
   ]
  },
  {
   "cell_type": "code",
   "execution_count": 12,
   "id": "d68b22db-3e35-44eb-9bcb-8ae060f6cde5",
   "metadata": {},
   "outputs": [
    {
     "name": "stdout",
     "output_type": "stream",
     "text": [
      "Dimension of the Data\n",
      " \n",
      "The dataset consists of 440833 rows and 12 columns, with 'customerid' set as the index column.\n"
     ]
    }
   ],
   "source": [
    "# Dimension of the Data\n",
    "print(\"Dimension of the Data\")\n",
    "print(\" \")\n",
    "print(\"The dataset consists of {} rows and {} columns, with 'customerid' set as the index column.\".format(\n",
    "        df_train.shape[0], df_train.shape[1]+1))"
   ]
  },
  {
   "cell_type": "code",
   "execution_count": 13,
   "id": "3866353e-c895-42c0-baac-e15b4f975273",
   "metadata": {},
   "outputs": [
    {
     "name": "stdout",
     "output_type": "stream",
     "text": [
      "Checking of Missing Values\n",
      " \n",
      "The data has 11 missing values in total.\n"
     ]
    }
   ],
   "source": [
    "# Checking of Missing Values\n",
    "print(\"Checking of Missing Values\")\n",
    "print(\" \")\n",
    "\n",
    "if df_train.isna().sum().sum() == 0:\n",
    "    print(\"The data has no missing values\")\n",
    "else:\n",
    "    print(\"The data has {} missing values in total.\".format(df_train.isna().sum().sum()))"
   ]
  },
  {
   "cell_type": "code",
   "execution_count": 14,
   "id": "6f712f74-c1eb-49b6-877d-a6546bb95182",
   "metadata": {},
   "outputs": [
    {
     "data": {
      "text/html": [
       "<div>\n",
       "<style scoped>\n",
       "    .dataframe tbody tr th:only-of-type {\n",
       "        vertical-align: middle;\n",
       "    }\n",
       "\n",
       "    .dataframe tbody tr th {\n",
       "        vertical-align: top;\n",
       "    }\n",
       "\n",
       "    .dataframe thead th {\n",
       "        text-align: right;\n",
       "    }\n",
       "</style>\n",
       "<table border=\"1\" class=\"dataframe\">\n",
       "  <thead>\n",
       "    <tr style=\"text-align: right;\">\n",
       "      <th></th>\n",
       "      <th>age</th>\n",
       "      <th>gender</th>\n",
       "      <th>tenure</th>\n",
       "      <th>usage frequency</th>\n",
       "      <th>support calls</th>\n",
       "      <th>payment delay</th>\n",
       "      <th>subscription type</th>\n",
       "      <th>contract length</th>\n",
       "      <th>total spend</th>\n",
       "      <th>last interaction</th>\n",
       "      <th>churn</th>\n",
       "    </tr>\n",
       "    <tr>\n",
       "      <th>customerid</th>\n",
       "      <th></th>\n",
       "      <th></th>\n",
       "      <th></th>\n",
       "      <th></th>\n",
       "      <th></th>\n",
       "      <th></th>\n",
       "      <th></th>\n",
       "      <th></th>\n",
       "      <th></th>\n",
       "      <th></th>\n",
       "      <th></th>\n",
       "    </tr>\n",
       "  </thead>\n",
       "  <tbody>\n",
       "    <tr>\n",
       "      <th>NaN</th>\n",
       "      <td>NaN</td>\n",
       "      <td>NaN</td>\n",
       "      <td>NaN</td>\n",
       "      <td>NaN</td>\n",
       "      <td>NaN</td>\n",
       "      <td>NaN</td>\n",
       "      <td>NaN</td>\n",
       "      <td>NaN</td>\n",
       "      <td>NaN</td>\n",
       "      <td>NaN</td>\n",
       "      <td>NaN</td>\n",
       "    </tr>\n",
       "  </tbody>\n",
       "</table>\n",
       "</div>"
      ],
      "text/plain": [
       "            age gender  tenure  usage frequency  support calls  payment delay  \\\n",
       "customerid                                                                      \n",
       "NaN         NaN    NaN     NaN              NaN            NaN            NaN   \n",
       "\n",
       "           subscription type contract length  total spend  last interaction  \\\n",
       "customerid                                                                    \n",
       "NaN                      NaN             NaN          NaN               NaN   \n",
       "\n",
       "            churn  \n",
       "customerid         \n",
       "NaN           NaN  "
      ]
     },
     "execution_count": 14,
     "metadata": {},
     "output_type": "execute_result"
    }
   ],
   "source": [
    "# Verify which column(s) has missing values\n",
    "df_train[df_train.isna().any(axis = 1)]"
   ]
  },
  {
   "cell_type": "markdown",
   "id": "41c88c2d-66a5-4709-8d77-7340ac548b77",
   "metadata": {},
   "source": [
    "Only 1 row has no data. Therefore, we can remove it from our dataset."
   ]
  },
  {
   "cell_type": "code",
   "execution_count": 16,
   "id": "3436413f-6adf-4cef-86c3-3240a6e38408",
   "metadata": {},
   "outputs": [
    {
     "name": "stdout",
     "output_type": "stream",
     "text": [
      "After removing the row with missing values, the final data consists of 440832 rows and 12 columns (incl. index column).\n"
     ]
    }
   ],
   "source": [
    "# Removing the missing row\n",
    "df_train.dropna(inplace = True)\n",
    "\n",
    "# Final Dimension\n",
    "print(\"After removing the row with missing values, the final data consists of {} rows and {} columns (incl. index column).\".format(\n",
    "    df_train.shape[0], df_train.shape[1]+1))"
   ]
  },
  {
   "cell_type": "markdown",
   "id": "31b50fa7-4aa2-406b-a31e-44ab411c1bbb",
   "metadata": {},
   "source": [
    "### **Data Description**\n",
    "\n",
    "**Customer Demographics:**\n",
    "<ul>\n",
    "    <li>Age</li>\n",
    "    <li>Gender</li>\n",
    "</ul>\n",
    "\n",
    "**Engagement Metrics:**\n",
    "<ul>\n",
    "    <li>Tenure</li>\n",
    "    <li>Usage Frequency</li>\n",
    "    <li>Support Calls</li>\n",
    "</ul>\n",
    "\n",
    "**Payment Behavior:**\n",
    "<ul>\n",
    "    <li>Payment Delay</li>\n",
    "    <li>Total Spend</li>\n",
    "</ul>\n",
    "\n",
    "**Subscription Details**\n",
    "<ul>\n",
    "    <li>Subscription Type</li>\n",
    "    <li>Contract Length</li>\n",
    "</ul>\n",
    "\n",
    "**Customer Interaction:**\n",
    "<ul>\n",
    "    <li>Last Interaction</li>\n",
    "</ul>\n",
    "\n",
    "**Target Variable:**\n",
    "<ul>\n",
    "    <li>Churn (Binary indicator of whether a customer left)</li>\n",
    "</ul>"
   ]
  },
  {
   "cell_type": "code",
   "execution_count": 18,
   "id": "14df1a2d-34d6-47fc-8637-6d40df155bc6",
   "metadata": {},
   "outputs": [
    {
     "name": "stdout",
     "output_type": "stream",
     "text": [
      "<class 'pandas.core.frame.DataFrame'>\n",
      "Index: 440832 entries, 2.0 to 449999.0\n",
      "Data columns (total 11 columns):\n",
      " #   Column             Non-Null Count   Dtype  \n",
      "---  ------             --------------   -----  \n",
      " 0   age                440832 non-null  float64\n",
      " 1   gender             440832 non-null  object \n",
      " 2   tenure             440832 non-null  float64\n",
      " 3   usage frequency    440832 non-null  float64\n",
      " 4   support calls      440832 non-null  float64\n",
      " 5   payment delay      440832 non-null  float64\n",
      " 6   subscription type  440832 non-null  object \n",
      " 7   contract length    440832 non-null  object \n",
      " 8   total spend        440832 non-null  float64\n",
      " 9   last interaction   440832 non-null  float64\n",
      " 10  churn              440832 non-null  float64\n",
      "dtypes: float64(8), object(3)\n",
      "memory usage: 40.4+ MB\n",
      " \n"
     ]
    }
   ],
   "source": [
    "# Check the Data Types of each variables\n",
    "df_train.info()\n",
    "print(\" \")"
   ]
  },
  {
   "cell_type": "markdown",
   "id": "d3d1e8f0-2e76-4443-ab1f-4fb4e5d93c4e",
   "metadata": {},
   "source": [
    "Now, columns like **age, tenure, support calls, churn, etc.** should be describe as integer and not as float."
   ]
  },
  {
   "cell_type": "code",
   "execution_count": 20,
   "id": "f75aef5e-8c1d-4d19-92ba-d746bd545b80",
   "metadata": {},
   "outputs": [],
   "source": [
    "# Convert the Numeric columns to integer\n",
    "\n",
    "float_cols = [\"age\", \"tenure\", \"usage frequency\", \"support calls\", \"payment delay\", \"last interaction\", \"churn\"]\n",
    "\n",
    "df_train[float_cols] = df_train[float_cols].astype(\"int\")"
   ]
  },
  {
   "cell_type": "code",
   "execution_count": 21,
   "id": "eb0d51dd-cd1d-4338-8715-774a6dfe0212",
   "metadata": {},
   "outputs": [],
   "source": [
    "# Convert the index to Integer\n",
    "df_train.index = df_train.index.astype(\"int\")"
   ]
  },
  {
   "cell_type": "code",
   "execution_count": 22,
   "id": "e01152d8-b34a-4c71-ada7-c01d68b32f51",
   "metadata": {},
   "outputs": [
    {
     "name": "stdout",
     "output_type": "stream",
     "text": [
      "<class 'pandas.core.frame.DataFrame'>\n",
      "Index: 440832 entries, 2 to 449999\n",
      "Data columns (total 11 columns):\n",
      " #   Column             Non-Null Count   Dtype  \n",
      "---  ------             --------------   -----  \n",
      " 0   age                440832 non-null  int64  \n",
      " 1   gender             440832 non-null  object \n",
      " 2   tenure             440832 non-null  int64  \n",
      " 3   usage frequency    440832 non-null  int64  \n",
      " 4   support calls      440832 non-null  int64  \n",
      " 5   payment delay      440832 non-null  int64  \n",
      " 6   subscription type  440832 non-null  object \n",
      " 7   contract length    440832 non-null  object \n",
      " 8   total spend        440832 non-null  float64\n",
      " 9   last interaction   440832 non-null  int64  \n",
      " 10  churn              440832 non-null  int64  \n",
      "dtypes: float64(1), int64(7), object(3)\n",
      "memory usage: 40.4+ MB\n"
     ]
    }
   ],
   "source": [
    "# Verify the Data Type\n",
    "df_train.info()"
   ]
  },
  {
   "cell_type": "code",
   "execution_count": 23,
   "id": "bc5b6877-d703-42ec-b31c-f100f8432d6e",
   "metadata": {},
   "outputs": [
    {
     "data": {
      "text/html": [
       "<div>\n",
       "<style scoped>\n",
       "    .dataframe tbody tr th:only-of-type {\n",
       "        vertical-align: middle;\n",
       "    }\n",
       "\n",
       "    .dataframe tbody tr th {\n",
       "        vertical-align: top;\n",
       "    }\n",
       "\n",
       "    .dataframe thead th {\n",
       "        text-align: right;\n",
       "    }\n",
       "</style>\n",
       "<table border=\"1\" class=\"dataframe\">\n",
       "  <thead>\n",
       "    <tr style=\"text-align: right;\">\n",
       "      <th></th>\n",
       "      <th>age</th>\n",
       "      <th>gender</th>\n",
       "      <th>tenure</th>\n",
       "      <th>usage frequency</th>\n",
       "      <th>support calls</th>\n",
       "      <th>payment delay</th>\n",
       "      <th>subscription type</th>\n",
       "      <th>contract length</th>\n",
       "      <th>total spend</th>\n",
       "      <th>last interaction</th>\n",
       "      <th>churn</th>\n",
       "    </tr>\n",
       "    <tr>\n",
       "      <th>customerid</th>\n",
       "      <th></th>\n",
       "      <th></th>\n",
       "      <th></th>\n",
       "      <th></th>\n",
       "      <th></th>\n",
       "      <th></th>\n",
       "      <th></th>\n",
       "      <th></th>\n",
       "      <th></th>\n",
       "      <th></th>\n",
       "      <th></th>\n",
       "    </tr>\n",
       "  </thead>\n",
       "  <tbody>\n",
       "    <tr>\n",
       "      <th>2</th>\n",
       "      <td>30</td>\n",
       "      <td>Female</td>\n",
       "      <td>39</td>\n",
       "      <td>14</td>\n",
       "      <td>5</td>\n",
       "      <td>18</td>\n",
       "      <td>Standard</td>\n",
       "      <td>Annual</td>\n",
       "      <td>932.0</td>\n",
       "      <td>17</td>\n",
       "      <td>1</td>\n",
       "    </tr>\n",
       "    <tr>\n",
       "      <th>3</th>\n",
       "      <td>65</td>\n",
       "      <td>Female</td>\n",
       "      <td>49</td>\n",
       "      <td>1</td>\n",
       "      <td>10</td>\n",
       "      <td>8</td>\n",
       "      <td>Basic</td>\n",
       "      <td>Monthly</td>\n",
       "      <td>557.0</td>\n",
       "      <td>6</td>\n",
       "      <td>1</td>\n",
       "    </tr>\n",
       "    <tr>\n",
       "      <th>4</th>\n",
       "      <td>55</td>\n",
       "      <td>Female</td>\n",
       "      <td>14</td>\n",
       "      <td>4</td>\n",
       "      <td>6</td>\n",
       "      <td>18</td>\n",
       "      <td>Basic</td>\n",
       "      <td>Quarterly</td>\n",
       "      <td>185.0</td>\n",
       "      <td>3</td>\n",
       "      <td>1</td>\n",
       "    </tr>\n",
       "    <tr>\n",
       "      <th>5</th>\n",
       "      <td>58</td>\n",
       "      <td>Male</td>\n",
       "      <td>38</td>\n",
       "      <td>21</td>\n",
       "      <td>7</td>\n",
       "      <td>7</td>\n",
       "      <td>Standard</td>\n",
       "      <td>Monthly</td>\n",
       "      <td>396.0</td>\n",
       "      <td>29</td>\n",
       "      <td>1</td>\n",
       "    </tr>\n",
       "    <tr>\n",
       "      <th>6</th>\n",
       "      <td>23</td>\n",
       "      <td>Male</td>\n",
       "      <td>32</td>\n",
       "      <td>20</td>\n",
       "      <td>5</td>\n",
       "      <td>8</td>\n",
       "      <td>Basic</td>\n",
       "      <td>Monthly</td>\n",
       "      <td>617.0</td>\n",
       "      <td>20</td>\n",
       "      <td>1</td>\n",
       "    </tr>\n",
       "  </tbody>\n",
       "</table>\n",
       "</div>"
      ],
      "text/plain": [
       "            age  gender  tenure  usage frequency  support calls  \\\n",
       "customerid                                                        \n",
       "2            30  Female      39               14              5   \n",
       "3            65  Female      49                1             10   \n",
       "4            55  Female      14                4              6   \n",
       "5            58    Male      38               21              7   \n",
       "6            23    Male      32               20              5   \n",
       "\n",
       "            payment delay subscription type contract length  total spend  \\\n",
       "customerid                                                                 \n",
       "2                      18          Standard          Annual        932.0   \n",
       "3                       8             Basic         Monthly        557.0   \n",
       "4                      18             Basic       Quarterly        185.0   \n",
       "5                       7          Standard         Monthly        396.0   \n",
       "6                       8             Basic         Monthly        617.0   \n",
       "\n",
       "            last interaction  churn  \n",
       "customerid                           \n",
       "2                         17      1  \n",
       "3                          6      1  \n",
       "4                          3      1  \n",
       "5                         29      1  \n",
       "6                         20      1  "
      ]
     },
     "execution_count": 23,
     "metadata": {},
     "output_type": "execute_result"
    }
   ],
   "source": [
    "# View the data\n",
    "df_train.head()"
   ]
  },
  {
   "cell_type": "markdown",
   "id": "eb4e4a0d-6e6f-4c92-a4ce-2646192fb3a4",
   "metadata": {},
   "source": [
    "#### **Do we have Duplicate Customers?**"
   ]
  },
  {
   "cell_type": "code",
   "execution_count": 25,
   "id": "7d9719c2-c7c5-4fc4-b695-79f6302c4b07",
   "metadata": {},
   "outputs": [
    {
     "name": "stdout",
     "output_type": "stream",
     "text": [
      "The dataset has no duplicate customers.\n"
     ]
    }
   ],
   "source": [
    "is_duplicate_customer = df_train.index.duplicated().any()\n",
    "\n",
    "if is_duplicate_customer == True:\n",
    "    print(\"There are duplicate customer present in the dataset.\")\n",
    "else:\n",
    "    print(\"The dataset has no duplicate customers.\")"
   ]
  },
  {
   "cell_type": "code",
   "execution_count": 26,
   "id": "1462ff27-87e3-40dc-8642-cab93c082802",
   "metadata": {},
   "outputs": [
    {
     "name": "stdout",
     "output_type": "stream",
     "text": [
      "Gender has 2 unique values and they are ['Female' 'Male'].\n",
      " \n",
      "Subscription Type has 3 unique values and they are ['Standard' 'Basic' 'Premium'].\n",
      " \n",
      "Contract Length has 3 unique values and they are ['Annual' 'Monthly' 'Quarterly'].\n"
     ]
    }
   ],
   "source": [
    "# Check the unique values from Categorical Columns\n",
    "print(\"Gender has {} unique values and they are {}.\".format(df_train.gender.nunique(), df_train.gender.unique()))\n",
    "print(\" \")\n",
    "print(\"Subscription Type has {} unique values and they are {}.\".format(df_train[\"subscription type\"].nunique(), df_train[\"subscription type\"].unique()))\n",
    "print(\" \")\n",
    "print(\"Contract Length has {} unique values and they are {}.\".format(df_train[\"contract length\"].nunique(), df_train[\"contract length\"].unique()))"
   ]
  },
  {
   "cell_type": "code",
   "execution_count": null,
   "id": "62d17272-8546-4e48-9513-f375a03b8488",
   "metadata": {},
   "outputs": [],
   "source": []
  },
  {
   "cell_type": "code",
   "execution_count": null,
   "id": "aebd4b51-9fd3-4147-9ffe-2640669f0f5b",
   "metadata": {},
   "outputs": [],
   "source": []
  },
  {
   "cell_type": "code",
   "execution_count": null,
   "id": "f593b252-8f60-4294-b7b9-ab4b11982f01",
   "metadata": {},
   "outputs": [],
   "source": []
  },
  {
   "cell_type": "code",
   "execution_count": null,
   "id": "86570df1-5237-4262-9ee0-bf25ef5fb0a2",
   "metadata": {},
   "outputs": [],
   "source": []
  },
  {
   "cell_type": "code",
   "execution_count": null,
   "id": "f5568b16-ff05-4f96-a84e-6f0be5d55bf0",
   "metadata": {},
   "outputs": [],
   "source": []
  },
  {
   "cell_type": "code",
   "execution_count": null,
   "id": "b0fad8da-f0a5-49af-a3c8-39690faa7fa4",
   "metadata": {},
   "outputs": [],
   "source": []
  },
  {
   "cell_type": "code",
   "execution_count": null,
   "id": "af5ed4c8-2bc0-4c39-a73b-d858d4ce65cf",
   "metadata": {},
   "outputs": [],
   "source": []
  },
  {
   "cell_type": "code",
   "execution_count": null,
   "id": "de959a6f-2b13-47be-bae4-c264b68c37b8",
   "metadata": {},
   "outputs": [],
   "source": []
  },
  {
   "cell_type": "code",
   "execution_count": null,
   "id": "e32d643c-ace0-4c7b-9e49-d7033a36945a",
   "metadata": {},
   "outputs": [],
   "source": []
  },
  {
   "cell_type": "code",
   "execution_count": null,
   "id": "690b0223-a230-41da-a0ea-f988e986d05c",
   "metadata": {},
   "outputs": [],
   "source": []
  },
  {
   "cell_type": "code",
   "execution_count": null,
   "id": "a7430ab8-6546-4a05-ad4b-b4dac15e5360",
   "metadata": {},
   "outputs": [],
   "source": []
  }
 ],
 "metadata": {
  "kernelspec": {
   "display_name": "Python 3 (ipykernel)",
   "language": "python",
   "name": "python3"
  },
  "language_info": {
   "codemirror_mode": {
    "name": "ipython",
    "version": 3
   },
   "file_extension": ".py",
   "mimetype": "text/x-python",
   "name": "python",
   "nbconvert_exporter": "python",
   "pygments_lexer": "ipython3",
   "version": "3.12.2"
  }
 },
 "nbformat": 4,
 "nbformat_minor": 5
}
